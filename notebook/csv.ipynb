{
 "cells": [
  {
   "cell_type": "code",
   "execution_count": 2,
   "metadata": {},
   "outputs": [],
   "source": [
    "import csv"
   ]
  },
  {
   "cell_type": "code",
   "execution_count": 1,
   "metadata": {},
   "outputs": [
    {
     "data": {
      "text/plain": [
       "'\\nheader1,header2,header3,header4,header5\\ndata1,data2,data3,data4,data5\\ndata1,data2,data3,data4,data5\\ndata1,data2,data3,data4,data5\\ndata1,data2,data3,data4,data5\\ndata1,data2,data3,data4,data5\\n'"
      ]
     },
     "execution_count": 1,
     "metadata": {},
     "output_type": "execute_result"
    }
   ],
   "source": [
    "'''\n",
    "header1,header2,header3,header4,header5\n",
    "data1,data2,data3,data4,data5\n",
    "data1,data2,data3,data4,data5\n",
    "data1,data2,data3,data4,data5\n",
    "data1,data2,data3,data4,data5\n",
    "data1,data2,data3,data4,data5\n",
    "'''"
   ]
  },
  {
   "cell_type": "code",
   "execution_count": 6,
   "metadata": {},
   "outputs": [
    {
     "name": "stdout",
     "output_type": "stream",
     "text": [
      "['header1', 'header2', 'header3', 'header4', 'header5']\n",
      "['data1', 'data2', 'data3', 'data4', 'data5']\n",
      "['data1', 'data2', 'data3', 'data4', 'data5']\n",
      "['data1', 'data2', 'data3', 'data4', 'data5']\n",
      "['data1', 'data2', 'data3', 'data4', 'data5']\n",
      "['data1', 'data2', 'data3', 'data4', 'data5']\n"
     ]
    }
   ],
   "source": [
    "with open('data/read.csv') as file:\n",
    "    reader = csv.reader(filefor row in reader:\n",
    "            print(row))\n",
    "    "
   ]
  },
  {
   "cell_type": "code",
   "execution_count": 8,
   "metadata": {},
   "outputs": [
    {
     "name": "stdout",
     "output_type": "stream",
     "text": [
      "OrderedDict([('header1', 'data1'), ('header2', 'data2'), ('header3', 'data3'), ('header4', 'data4'), ('header5', 'data5')])\n",
      "OrderedDict([('header1', 'data1'), ('header2', 'data2'), ('header3', 'data3'), ('header4', 'data4'), ('header5', 'data5')])\n",
      "OrderedDict([('header1', 'data1'), ('header2', 'data2'), ('header3', 'data3'), ('header4', 'data4'), ('header5', 'data5')])\n",
      "OrderedDict([('header1', 'data1'), ('header2', 'data2'), ('header3', 'data3'), ('header4', 'data4'), ('header5', 'data5')])\n",
      "OrderedDict([('header1', 'data1'), ('header2', 'data2'), ('header3', 'data3'), ('header4', 'data4'), ('header5', 'data5')])\n"
     ]
    }
   ],
   "source": [
    "with open('data/read.csv') as file:\n",
    "    reader = csv.DictReader(file)\n",
    "    for row in reader:\n",
    "            print(row)"
   ]
  },
  {
   "cell_type": "code",
   "execution_count": 11,
   "metadata": {},
   "outputs": [],
   "source": [
    "data = [\n",
    "    ['header1', 'header2', 'header3', 'header4', 'header5'],\n",
    "    ['data1', 'data2', 'data3', 'data4', 'data5'],\n",
    "    ['data1', 'data2', 'data3', 'data4', 'data5'],\n",
    "    ['data1', 'data2', 'data3', 'data4', 'data5'],\n",
    "    ['data1', 'data2', 'data3', 'data4', 'data5'],\n",
    "    ['data1', 'data2', 'data3', 'data4', 'data5']\n",
    "]\n",
    "\n",
    "with open('data/write.csv', 'w') as file:\n",
    "    writer = csv.writer(file)\n",
    "    for row in data:\n",
    "        writer.writerow(row)"
   ]
  }
 ],
 "metadata": {
  "kernelspec": {
   "display_name": "Python 3",
   "language": "python",
   "name": "python3"
  },
  "language_info": {
   "codemirror_mode": {
    "name": "ipython",
    "version": 3
   },
   "file_extension": ".py",
   "mimetype": "text/x-python",
   "name": "python",
   "nbconvert_exporter": "python",
   "pygments_lexer": "ipython3",
   "version": "3.7.3"
  }
 },
 "nbformat": 4,
 "nbformat_minor": 2
}
