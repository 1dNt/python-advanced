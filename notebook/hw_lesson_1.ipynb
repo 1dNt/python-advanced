{
 "cells": [
  {
   "cell_type": "code",
   "execution_count": 16,
   "metadata": {},
   "outputs": [
    {
     "name": "stdout",
     "output_type": "stream",
     "text": [
      "b'\\xd1\\x80\\xd0\\xb0\\xd0\\xb7\\xd1\\x80\\xd0\\xb0\\xd0\\xb1\\xd0\\xbe\\xd1\\x82\\xd0\\xba\\xd0\\xb0' -is type:<class 'bytes'>\n",
      "b'\\xd1\\x81\\xd0\\xbe\\xd0\\xba\\xd0\\xb5\\xd1\\x82' -is type:<class 'bytes'>\n",
      "b'\\xd0\\xb4\\xd0\\xb5\\xd0\\xba\\xd0\\xbe\\xd1\\x80\\xd0\\xb0\\xd1\\x82\\xd0\\xbe\\xd1\\x80' -is type:<class 'bytes'>\n"
     ]
    }
   ],
   "source": [
    "# Задание 1.\n",
    "\n",
    "str1 = 'разработка'\n",
    "str2 = 'сокет'\n",
    "str3 = 'декоратор'\n",
    "\n",
    "b_str1 = str1.encode()\n",
    "b_str2 = str2.encode()\n",
    "b_str3 = str3.encode()\n",
    "\n",
    "print(f'{b_str1} -is type:{type(b_str1)}\\n{b_str2} -is type:{type(b_str2)}\\n{b_str3} -is type:{type(b_str3)}')"
   ]
  },
  {
   "cell_type": "code",
   "execution_count": 17,
   "metadata": {},
   "outputs": [
    {
     "name": "stdout",
     "output_type": "stream",
     "text": [
      "разработка -is type:<class 'str'>\n",
      "сокет -is type:<class 'str'>\n",
      "декоратор -is type:<class 'str'>\n"
     ]
    }
   ],
   "source": [
    "# Задание 2.\n",
    "\n",
    "print(f'{b_str1.decode()} -is type:{type(b_str1.decode())}')\n",
    "print(f'{b_str2.decode()} -is type:{type(b_str2.decode())}')\n",
    "print(f'{b_str3.decode()} -is type:{type(b_str3.decode())}')"
   ]
  },
  {
   "cell_type": "code",
   "execution_count": 44,
   "metadata": {},
   "outputs": [
    {
     "name": "stdout",
     "output_type": "stream",
     "text": [
      "b'\\xd1\\x80\\xd0\\xb0\\xd0\\xb7\\xd1\\x80\\xd0\\xb0\\xd0\\xb1\\xd0\\xbe\\xd1\\x82\\xd0\\xba\\xd0\\xb0' is type:<class 'bytes'>\n",
      "b'\\xd1\\x81\\xd0\\xbe\\xd0\\xba\\xd0\\xb5\\xd1\\x82' is type:<class 'bytes'>\n",
      "b'\\xd0\\xb4\\xd0\\xb5\\xd0\\xba\\xd0\\xbe\\xd1\\x80\\xd0\\xb0\\xd1\\x82\\xd0\\xbe\\xd1\\x80' is type:<class 'bytes'>\n",
      "ÑÐ°Ð·ÑÐ°Ð±Ð¾ÑÐºÐ°\n",
      "ÑÐ¾ÐºÐµÑ\n",
      "Ð´ÐµÐºÐ¾ÑÐ°ÑÐ¾Ñ\n"
     ]
    }
   ],
   "source": [
    "# Задание 3.\n",
    "\n",
    "str1 = 'разработка'\n",
    "str2 = 'сокет'\n",
    "str3 = 'декоратор'\n",
    "\n",
    "b_str1 = str1.encode('utf-8')\n",
    "b_str2 = str2.encode('utf-8')\n",
    "b_str3 = str3.encode('utf-8')\n",
    "\n",
    "print(f'{b_str1} is type:{type(b_str1)}\\n{b_str2} is type:{type(b_str2)}\\n{b_str3} is type:{type(b_str3)}')\n",
    "\n",
    "n_str1 = b_str1.decode('latin-1')\n",
    "n_str2 = b_str2.decode('latin-1')\n",
    "n_str3 = b_str3.decode('latin-1')\n",
    "\n",
    "print(f'{n_str1}\\n{n_str2}\\n{n_str3}')"
   ]
  },
  {
   "cell_type": "code",
   "execution_count": 45,
   "metadata": {},
   "outputs": [
    {
     "data": {
      "text/plain": [
       "'Ñ\\x80Ð°Ð·Ñ\\x80Ð°Ð±Ð¾Ñ\\x82ÐºÐ°'"
      ]
     },
     "execution_count": 45,
     "metadata": {},
     "output_type": "execute_result"
    }
   ],
   "source": [
    "str4 = 'разработка'\n",
    "str5 = str4.encode()\n",
    "str5.decode('latin-1')"
   ]
  }
 ],
 "metadata": {
  "kernelspec": {
   "display_name": "Python 3",
   "language": "python",
   "name": "python3"
  },
  "language_info": {
   "codemirror_mode": {
    "name": "ipython",
    "version": 3
   },
   "file_extension": ".py",
   "mimetype": "text/x-python",
   "name": "python",
   "nbconvert_exporter": "python",
   "pygments_lexer": "ipython3",
   "version": "3.7.3"
  }
 },
 "nbformat": 4,
 "nbformat_minor": 2
}
